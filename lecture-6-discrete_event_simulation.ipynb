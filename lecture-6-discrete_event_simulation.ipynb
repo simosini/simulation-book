{
 "cells": [
  {
   "cell_type": "markdown",
   "metadata": {},
   "source": [
    "# Discrete event simulation"
   ]
  },
  {
   "cell_type": "markdown",
   "metadata": {},
   "source": [
    "The basic idea is to deal with continous behaviours considering only certain quantities of interest in a way that we follow the continuos evolution of the system capturing only a discrete number of events we are interesting in.\n",
    "The key elements in a discrete event simulation are variables and events.\n",
    "In general there are three types of variables:\n",
    "- A **time variable t**, which refers to the time elapsed during the simulation\n",
    "- **Counter variables**, that keep a count of numbers of events occured in the simulation\n",
    "- A **State variable**, that keeps track of the state of the system at a certain time t\n",
    "\n",
    "Whenever an event occurs we change the values of these variables and we collect the output of any relevant data.\n",
    "In order to determine when the next event will occur we also mantain a **list of events** .\n",
    "\n",
    "Let's now introduce some examples to make things clearer:"
   ]
  },
  {
   "cell_type": "code",
   "execution_count": null,
   "metadata": {
    "collapsed": true
   },
   "outputs": [],
   "source": []
  }
 ],
 "metadata": {
  "kernelspec": {
   "display_name": "Python 2",
   "language": "python",
   "name": "python2"
  },
  "language_info": {
   "codemirror_mode": {
    "name": "ipython",
    "version": 2
   },
   "file_extension": ".py",
   "mimetype": "text/x-python",
   "name": "python",
   "nbconvert_exporter": "python",
   "pygments_lexer": "ipython2",
   "version": "2.7.13"
  }
 },
 "nbformat": 4,
 "nbformat_minor": 2
}
