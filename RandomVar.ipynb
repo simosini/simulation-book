{
 "cells": [
  {
   "cell_type": "markdown",
   "metadata": {},
   "source": [
    "# Generating Discrete Random Variables"
   ]
  },
  {
   "cell_type": "markdown",
   "metadata": {},
   "source": [
    "Suppose we want to generate values of a discrete random variables X having a given probability mass function:\n",
    "$$P\\{X = x_j\\} = p_j,j = 0,1..., \n",
    "\\sum_{j=0}^\\infty p_j = 1$$\n",
    "\n",
    "To accomplish this, we generate a random number chosen uniformly over (0,1) and set X according to the simple algorithm in the next panels:\n"
   ]
  },
  {
   "cell_type": "code",
   "execution_count": 3,
   "metadata": {
    "collapsed": true
   },
   "outputs": [],
   "source": [
    "%matplotlib notebook\n",
    "\n",
    "import math\n",
    "from scipy import random\n",
    "from ipywidgets import widgets, interact\n",
    "from IPython.display import display\n",
    "import numpy as np\n",
    "from IPython.display import clear_output, HTML\n",
    "import pandas as pd\n",
    "\n",
    "import matplotlib.pyplot as plt\n",
    "import matplotlib.patches as patches\n"
   ]
  },
  {
   "cell_type": "code",
   "execution_count": 4,
   "metadata": {
    "collapsed": false
   },
   "outputs": [],
   "source": [
    "def gen_rand_val(values, mass):\n",
    "    u = random.random()\n",
    "    i = 0\n",
    "    thres = mass[i]\n",
    "    while(u > thres):\n",
    "        i+=1\n",
    "        thres += mass[i]\n",
    "    return values[i]   \n"
   ]
  },
  {
   "cell_type": "code",
   "execution_count": 5,
   "metadata": {
    "collapsed": false
   },
   "outputs": [
    {
     "name": "stdout",
     "output_type": "stream",
     "text": [
      "Counter({1: 389, 2: 248, 3: 201, 4: 162})\n",
      "[400, 250, 200, 150]\n"
     ]
    }
   ],
   "source": [
    "from collections import Counter\n",
    "histogram=plt.figure()\n",
    "def sim_var(nums) :\n",
    "    vals = [i for i in range(1,5)]\n",
    "    prob = [.4, .25, .2, .15]\n",
    "    xvals = [gen_rand_val(vals, prob) for _ in range(nums)]\n",
    "    counts = Counter(xvals)\n",
    "    teor = map(lambda x : int(x* nums), prob) \n",
    "    plt.title(\"Generator Histogram\")\n",
    "    plt.xlabel(\"Value\")\n",
    "    plt.ylabel(\"Frequency\")\n",
    "    plt.hist(xvals)\n",
    "    plt.show()\n",
    "    print counts\n",
    "    print teor\n",
    "    \n",
    "interact(sim_var, nums=widgets.IntText(min=1000, max=100000, value= 1000));\n"
   ]
  },
  {
   "cell_type": "markdown",
   "metadata": {
    "collapsed": true
   },
   "source": [
    "Now, if the discrete random variable to simulate is a uniform variable then we can avoid the while loop.\n",
    "In general, in fact, if we denote with F the distibution function of X and we order its elements such as $x_0 < x_1 < ... $ \n",
    "then we have: \n",
    "$$P(X=x_j) = P(F(x_{j-1}) <= U < F(x_j))$$\n",
    "\n",
    "So basically whenever we extract a random number U we find the interval of F(X) in which it lies (it will be betwe < jen $x_{j-1}$ and $x_j$) and we return $x_j$\n",
    "Let's now see how to take advantage of this consideration to avoid the while loop when simulating a discrete uniform random variable.\n",
    "Suppose we want to generate the value of X which is equally likely to have any of the values 1,2,...,n.\n",
    "\n",
    "We know that :\n",
    "$X=j \\rightarrow  \\frac{j-i}{n} <= U < \\frac{j}{n}$\n",
    "So multiplying by n every term we obtain $X= \\lceil nU \\rceil$.\n",
    "\n",
    "This means, for example, that if we want to simulate a random uniform discrete variable with n possible values, we just extract a random number U and we multiply it by n to obtain the wanted number."
   ]
  },
  {
   "cell_type": "markdown",
   "metadata": {},
   "source": [
    "# Generating a random permutation"
   ]
  },
  {
   "cell_type": "markdown",
   "metadata": {},
   "source": [
    "Suppose now we have n elements and we would like to generate a random permutation, that is one of the n! possible each with equal probability $ \\frac {1}{n!} $\n",
    "\n",
    "The idea is to start with a ordered list of the numbers we would like to permute, choose a number at random i, between 1 and n (equally likely), and then take the number in position i and interchange it with the one in position n, then repeat the extraction over the numbers between 1 and n-1 and swap the 2 numbers as before  in position n-1 and so on. \n",
    "Eventually we created a permutation.\n",
    "Let's see how to do that in the next panel."
   ]
  },
  {
   "cell_type": "code",
   "execution_count": 36,
   "metadata": {
    "collapsed": false
   },
   "outputs": [],
   "source": [
    "#create a button to simulate permutation\n",
    "button_permute = widgets.Button(description='Press to permute',button_style='',icon='check')\n",
    "label_result = widgets.Label('')\n",
    "val = widgets.IntText(min=2, max=100, value=10)\n",
    "\n",
    "#we start with the permutation 0,1,....,n-1\n",
    "def create_perm(n):\n",
    "    perm = [i for i in range (n)]\n",
    "    k=n-1\n",
    "    while(k>=0):\n",
    "        u=random.random()\n",
    "        i=int(k*u) + 1\n",
    "        swap(i,k,perm)\n",
    "        k -= 1\n",
    "    return perm\n",
    "\n",
    "def swap(i,k,nums):\n",
    "    temp = nums[k]\n",
    "    nums[k] = nums[i]\n",
    "    nums[i] = temp\n",
    "\n",
    "def but_perm(b) :\n",
    "    perm = create_perm(val.value)\n",
    "    label_result.value = str(perm)\n",
    "    \n",
    "button_permute.on_click(but_perm)\n",
    "widgets.HBox([val, button_permute, label_result])"
   ]
  },
  {
   "cell_type": "code",
   "execution_count": null,
   "metadata": {
    "collapsed": true
   },
   "outputs": [],
   "source": []
  }
 ],
 "metadata": {
  "kernelspec": {
   "display_name": "Python 2",
   "language": "python",
   "name": "python2"
  },
  "language_info": {
   "codemirror_mode": {
    "name": "ipython",
    "version": 2
   },
   "file_extension": ".py",
   "mimetype": "text/x-python",
   "name": "python",
   "nbconvert_exporter": "python",
   "pygments_lexer": "ipython2",
   "version": "2.7.13"
  },
  "widgets": {
   "state": {
    "79c0a5d37a624e9dac9621dd17c1c2c3": {
     "views": [
      {
       "cell_index": 4
      }
     ]
    },
    "e87bee3558684ac092d770ddcca11cbc": {
     "views": [
      {
       "cell_index": 8
      }
     ]
    }
   },
   "version": "1.2.0"
  }
 },
 "nbformat": 4,
 "nbformat_minor": 2
}
